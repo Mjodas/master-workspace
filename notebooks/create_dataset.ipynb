{
 "cells": [
  {
   "cell_type": "code",
   "execution_count": 4,
   "metadata": {},
   "outputs": [],
   "source": [
    "import os\n",
    "import pathlib\n",
    "import datetime\n",
    "from pathlib import Path\n",
    "from random import shuffle\n",
    "import shutil\n",
    "\n",
    "\n",
    "import pandas as pd"
   ]
  },
  {
   "cell_type": "markdown",
   "metadata": {},
   "source": [
    "### Paths\n",
    "Example path: **data/snr-15/COSTAS/signals_with_noise/costas1.png**"
   ]
  },
  {
   "cell_type": "code",
   "execution_count": 5,
   "metadata": {},
   "outputs": [],
   "source": [
    "SOURCE_DIR = '/Users/Mjods/Documents/data/' # Full path\n",
    "W_NOISE = 'signals_with_noise/'"
   ]
  },
  {
   "cell_type": "markdown",
   "metadata": {},
   "source": [
    "### Filenames"
   ]
  },
  {
   "cell_type": "code",
   "execution_count": 6,
   "metadata": {},
   "outputs": [],
   "source": [
    "METADATA = 'master_metadata.csv'"
   ]
  },
  {
   "cell_type": "markdown",
   "metadata": {},
   "source": [
    "### Flags"
   ]
  },
  {
   "cell_type": "code",
   "execution_count": 69,
   "metadata": {},
   "outputs": [],
   "source": [
    "# With test set\n",
    "TEST_SET = True\n",
    "\n",
    "# With noise \n",
    "NOISE = True\n",
    "\n",
    "# Else binary\n",
    "MULTICLASS = False "
   ]
  },
  {
   "cell_type": "markdown",
   "metadata": {},
   "source": [
    "### Parameters"
   ]
  },
  {
   "cell_type": "code",
   "execution_count": 70,
   "metadata": {},
   "outputs": [],
   "source": [
    "test_split = 0.1\n",
    "SNR = [-15,]\n",
    "modulations = ['COSTAS', 'FMCW']"
   ]
  },
  {
   "cell_type": "markdown",
   "metadata": {},
   "source": [
    "### Output structure"
   ]
  },
  {
   "cell_type": "code",
   "execution_count": 71,
   "metadata": {},
   "outputs": [],
   "source": [
    "OUTPUT_DIR_NAME = 'training_dataset_{}/'.format(datetime.datetime.now())\n",
    "dataset_names = ['train', 'test']\n",
    "\n",
    "os.mkdir(OUTPUT_DIR_NAME)\n",
    "\n",
    "for dataset in dataset_names:\n",
    "\n",
    "    dataset_path = OUTPUT_DIR_NAME + dataset + '/'\n",
    "    os.mkdir(dataset_path)\n",
    "\n",
    "    if MULTICLASS:\n",
    "        for modulation in modulations:\n",
    "            os.mkdir(dataset_path + modulation)\n",
    "    else:\n",
    "        os.mkdir(dataset_path + 'SIGNAL')\n",
    "\n",
    "    if NOISE:\n",
    "        os.mkdir(dataset_path+'NOISE')\n",
    "\n",
    "    "
   ]
  },
  {
   "cell_type": "markdown",
   "metadata": {},
   "source": [
    "### Workspace"
   ]
  },
  {
   "cell_type": "code",
   "execution_count": 72,
   "metadata": {},
   "outputs": [],
   "source": [
    "source = Path(SOURCE_DIR)\n",
    "metadata = pd.read_csv(SOURCE_DIR + METADATA)"
   ]
  },
  {
   "cell_type": "code",
   "execution_count": 73,
   "metadata": {},
   "outputs": [
    {
     "data": {
      "text/html": [
       "<div>\n",
       "<style scoped>\n",
       "    .dataframe tbody tr th:only-of-type {\n",
       "        vertical-align: middle;\n",
       "    }\n",
       "\n",
       "    .dataframe tbody tr th {\n",
       "        vertical-align: top;\n",
       "    }\n",
       "\n",
       "    .dataframe thead th {\n",
       "        text-align: right;\n",
       "    }\n",
       "</style>\n",
       "<table border=\"1\" class=\"dataframe\">\n",
       "  <thead>\n",
       "    <tr style=\"text-align: right;\">\n",
       "      <th></th>\n",
       "      <th>filename</th>\n",
       "      <th>modulation_type</th>\n",
       "      <th>snr</th>\n",
       "      <th>frequency_range</th>\n",
       "      <th>base_frequency</th>\n",
       "    </tr>\n",
       "  </thead>\n",
       "  <tbody>\n",
       "    <tr>\n",
       "      <th>0</th>\n",
       "      <td>COSTAS_snr-15_0</td>\n",
       "      <td>COSTAS</td>\n",
       "      <td>-15</td>\n",
       "      <td>NaN</td>\n",
       "      <td>4.333388e+06</td>\n",
       "    </tr>\n",
       "    <tr>\n",
       "      <th>1</th>\n",
       "      <td>COSTAS_snr-15_1</td>\n",
       "      <td>COSTAS</td>\n",
       "      <td>-15</td>\n",
       "      <td>NaN</td>\n",
       "      <td>8.430625e+06</td>\n",
       "    </tr>\n",
       "    <tr>\n",
       "      <th>2</th>\n",
       "      <td>COSTAS_snr-15_2</td>\n",
       "      <td>COSTAS</td>\n",
       "      <td>-15</td>\n",
       "      <td>NaN</td>\n",
       "      <td>5.941570e+05</td>\n",
       "    </tr>\n",
       "    <tr>\n",
       "      <th>3</th>\n",
       "      <td>COSTAS_snr-15_3</td>\n",
       "      <td>COSTAS</td>\n",
       "      <td>-15</td>\n",
       "      <td>NaN</td>\n",
       "      <td>8.177337e+05</td>\n",
       "    </tr>\n",
       "    <tr>\n",
       "      <th>4</th>\n",
       "      <td>COSTAS_snr-15_4</td>\n",
       "      <td>COSTAS</td>\n",
       "      <td>-15</td>\n",
       "      <td>NaN</td>\n",
       "      <td>5.983043e+06</td>\n",
       "    </tr>\n",
       "  </tbody>\n",
       "</table>\n",
       "</div>"
      ],
      "text/plain": [
       "          filename modulation_type  snr  frequency_range  base_frequency\n",
       "0  COSTAS_snr-15_0          COSTAS  -15              NaN    4.333388e+06\n",
       "1  COSTAS_snr-15_1          COSTAS  -15              NaN    8.430625e+06\n",
       "2  COSTAS_snr-15_2          COSTAS  -15              NaN    5.941570e+05\n",
       "3  COSTAS_snr-15_3          COSTAS  -15              NaN    8.177337e+05\n",
       "4  COSTAS_snr-15_4          COSTAS  -15              NaN    5.983043e+06"
      ]
     },
     "execution_count": 73,
     "metadata": {},
     "output_type": "execute_result"
    }
   ],
   "source": [
    "metadata.head()"
   ]
  },
  {
   "cell_type": "code",
   "execution_count": 74,
   "metadata": {},
   "outputs": [],
   "source": [
    "for snr in SNR:\n",
    "    \n",
    "    # Modulations\n",
    "    for modulation in modulations:\n",
    "    \n",
    "        glob_path = '**/snr{}/{}/signals_with_noise/*.png'.format(snr, modulation)\n",
    "        img_paths = [path for path in source.glob(glob_path)]\n",
    "        \n",
    "        # Shuffle\n",
    "        shuffle(img_paths)\n",
    "        \n",
    "        # test split \n",
    "        length = len(img_paths)\n",
    "        divider = int(length*(1-test_split))\n",
    "        train = img_paths[:divider]\n",
    "        test = img_paths [divider:]\n",
    "        \n",
    "        paths = [train,test]\n",
    "        \n",
    "        # Assert: number of datapoints! \n",
    "        if len(train) + len(test) != length:\n",
    "            print(\"ERROR {} SIGNAL SPLIT: Total: {} Train: {} Test: {}\".format(modulation, len(train), len(test)))\n",
    "        \n",
    "        # Copy the files\n",
    "        for name, paths in zip(dataset_names, paths):\n",
    "            for index,path in enumerate(paths):\n",
    "                src = path\n",
    "                dst = OUTPUT_DIR_NAME + name + '/'\n",
    "                dst = dst + modulation if MULTICLASS is True else dst + 'SIGNAL/'\n",
    "                shutil.copy(src,dst)\n",
    "                \n",
    "\n",
    "    # Noise\n",
    "    glob_path = '**/snr{}/*.png'.format(snr)\n",
    "    img_paths = [path for path in source.glob(glob_path)]\n",
    "    shuffle(img_paths)\n",
    "    \n",
    "    length = len(img_paths)\n",
    "    divider = int(length*(1-test_split))\n",
    "    train = img_paths[:divider]\n",
    "    test = img_paths [divider:]\n",
    "    \n",
    "    paths = [train,test]\n",
    "    \n",
    "     # Assert: number of datapoints! \n",
    "    if len(train) + len(test) != length:\n",
    "        print(\"ERROR NOISE SPLIT: Total: {} Train: {} Test: {}\".format(length,len(train), len(test)))\n",
    "        \n",
    "    \n",
    "    for name, paths in zip(dataset_names, paths):\n",
    "            for index,path in enumerate(paths):\n",
    "                src = path\n",
    "                dst = OUTPUT_DIR_NAME + name + '/' + 'NOISE'\n",
    "                shutil.copy(src,dst)\n",
    "        "
   ]
  },
  {
   "cell_type": "code",
   "execution_count": null,
   "metadata": {},
   "outputs": [],
   "source": []
  }
 ],
 "metadata": {
  "kernelspec": {
   "display_name": "Python 3",
   "language": "python",
   "name": "python3"
  },
  "language_info": {
   "codemirror_mode": {
    "name": "ipython",
    "version": 3
   },
   "file_extension": ".py",
   "mimetype": "text/x-python",
   "name": "python",
   "nbconvert_exporter": "python",
   "pygments_lexer": "ipython3",
   "version": "3.8.3"
  }
 },
 "nbformat": 4,
 "nbformat_minor": 4
}
